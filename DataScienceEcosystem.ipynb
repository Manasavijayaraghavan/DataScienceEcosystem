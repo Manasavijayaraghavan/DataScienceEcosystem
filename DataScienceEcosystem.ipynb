{
 "cells": [
  {
   "cell_type": "markdown",
   "id": "93bcaf2b",
   "metadata": {},
   "source": [
    "# Data Science Tools and Ecosystem #"
   ]
  },
  {
   "cell_type": "markdown",
   "id": "25d9c9ea",
   "metadata": {},
   "source": [
    "In this notebook, Data Science Tools and Ecosystem are summarized."
   ]
  },
  {
   "cell_type": "markdown",
   "id": "b07e18cd",
   "metadata": {},
   "source": [
    "Some of the popular languages that Data Scientists use are:\n",
    "\n",
    "1. Python\n",
    "2. R\n",
    "3. SQL"
   ]
  },
  {
   "cell_type": "markdown",
   "id": "d65858db",
   "metadata": {},
   "source": [
    "Some of the commonly used libraries used by Data Scientists include:\n",
    "\n",
    "1. Pandas\n",
    "2. Matplotlib\n",
    "3. Numpy"
   ]
  },
  {
   "cell_type": "markdown",
   "id": "86f48b3f",
   "metadata": {},
   "source": [
    "# Data Science Tools   \n",
    "| Data Science Tools     |\n",
    "|:---------------------: |\n",
    "| APACHE SPARK           |\n",
    "|                        |\n",
    "| JUPYTER NOTEBOOK       |\n",
    "|                        |\n",
    "|KNIME                   |\n",
    "|                        |\n"
   ]
  },
  {
   "cell_type": "markdown",
   "id": "8c7bbfb3",
   "metadata": {},
   "source": [
    "### Below are a few examples of evaluating arithmetic expressions in Python"
   ]
  },
  {
   "cell_type": "code",
   "execution_count": 2,
   "id": "50d9dd39",
   "metadata": {},
   "outputs": [
    {
     "data": {
      "text/plain": [
       "17"
      ]
     },
     "execution_count": 2,
     "metadata": {},
     "output_type": "execute_result"
    }
   ],
   "source": [
    "#This a simple arithmetic expression to mutiply then add integers\n",
    "(3*4)+5"
   ]
  },
  {
   "cell_type": "code",
   "execution_count": 3,
   "id": "67986538",
   "metadata": {},
   "outputs": [
    {
     "name": "stdout",
     "output_type": "stream",
     "text": [
      "converted 200 mins to hours solution is= 3.3333333333333335\n"
     ]
    }
   ],
   "source": [
    "#This will convert 200 minutes to hours by diving by 60\n",
    "mins=200\n",
    "hrs=60\n",
    "sol=mins/hrs\n",
    "print(\"converted 200 mins to hours solution is=\", sol)"
   ]
  },
  {
   "cell_type": "markdown",
   "id": "7f087cc5",
   "metadata": {},
   "source": [
    "**Objectives:**\n",
    "- List popular languages for Data Science\n",
    "- List tools used by Data Scientists\n",
    "- Evaluate Arithmetic Expressions\n",
    "- Conversion from minutes to hours"
   ]
  },
  {
   "cell_type": "markdown",
   "id": "55324129",
   "metadata": {},
   "source": [
    "## Author\n",
    "Manasa Vijayaraghavan"
   ]
  },
  {
   "cell_type": "code",
   "execution_count": null,
   "id": "1105a513",
   "metadata": {},
   "outputs": [],
   "source": []
  }
 ],
 "metadata": {
  "kernelspec": {
   "display_name": "Python 3 (ipykernel)",
   "language": "python",
   "name": "python3"
  },
  "language_info": {
   "codemirror_mode": {
    "name": "ipython",
    "version": 3
   },
   "file_extension": ".py",
   "mimetype": "text/x-python",
   "name": "python",
   "nbconvert_exporter": "python",
   "pygments_lexer": "ipython3",
   "version": "3.10.9"
  }
 },
 "nbformat": 4,
 "nbformat_minor": 5
}
